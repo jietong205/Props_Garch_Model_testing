{
 "cells": [
  {
   "cell_type": "code",
   "execution_count": 1,
   "metadata": {},
   "outputs": [
    {
     "name": "stdout",
     "output_type": "stream",
     "text": [
      "Iteration:      1,   Func. Count:     33,   Neg. LLF: 134.2317665883839\n",
      "Iteration:      2,   Func. Count:     70,   Neg. LLF: 95144.88010822535\n",
      "Iteration:      3,   Func. Count:    103,   Neg. LLF: 544.0628421219723\n",
      "Iteration:      4,   Func. Count:    136,   Neg. LLF: 359.7435810916166\n",
      "Iteration:      5,   Func. Count:    169,   Neg. LLF: 120.6844254126198\n",
      "Iteration:      6,   Func. Count:    202,   Neg. LLF: 57.67990062103332\n",
      "Iteration:      7,   Func. Count:    235,   Neg. LLF: 37.233822892801555\n",
      "Iteration:      8,   Func. Count:    268,   Neg. LLF: 44.28487782551267\n",
      "Iteration:      9,   Func. Count:    301,   Neg. LLF: 30.95585783291134\n",
      "Iteration:     10,   Func. Count:    334,   Neg. LLF: 26.957523684138557\n",
      "Iteration:     11,   Func. Count:    366,   Neg. LLF: 31.3579219222754\n",
      "Iteration:     12,   Func. Count:    400,   Neg. LLF: 30.01445555705802\n",
      "Iteration:     13,   Func. Count:    433,   Neg. LLF: 28.46099682317165\n",
      "Iteration:     14,   Func. Count:    466,   Neg. LLF: 27.699888016107227\n",
      "Iteration:     15,   Func. Count:    499,   Neg. LLF: 26.904377406235934\n",
      "Iteration:     16,   Func. Count:    532,   Neg. LLF: 25.516069030444786\n",
      "Iteration:     17,   Func. Count:    564,   Neg. LLF: 25.510906354576065\n",
      "Iteration:     18,   Func. Count:    597,   Neg. LLF: 25.78381536971345\n",
      "Iteration:     19,   Func. Count:    630,   Neg. LLF: 25.492112106687742\n",
      "Iteration:     20,   Func. Count:    662,   Neg. LLF: 25.48542031498762\n",
      "Iteration:     21,   Func. Count:    694,   Neg. LLF: 25.479683506838334\n",
      "Iteration:     22,   Func. Count:    726,   Neg. LLF: 25.47782188179522\n",
      "Iteration:     23,   Func. Count:    758,   Neg. LLF: 25.477525572883234\n",
      "Iteration:     24,   Func. Count:    790,   Neg. LLF: 25.477511600856143\n",
      "Iteration:     25,   Func. Count:    822,   Neg. LLF: 25.477508036800334\n",
      "Iteration:     26,   Func. Count:    853,   Neg. LLF: 25.477507999783697\n",
      "Optimization terminated successfully    (Exit mode 0)\n",
      "            Current function value: 25.477508036800334\n",
      "            Iterations: 26\n",
      "            Function evaluations: 853\n",
      "            Gradient evaluations: 26\n"
     ]
    },
    {
     "name": "stderr",
     "output_type": "stream",
     "text": [
      "/opt/anaconda3/lib/python3.8/site-packages/arch/__future__/_utility.py:11: FutureWarning: \n",
      "The default for reindex is True. After September 2021 this will change to\n",
      "False. Set reindex to True or False to silence this message. Alternatively,\n",
      "you can use the import comment\n",
      "\n",
      "from arch.__future__ import reindexing\n",
      "\n",
      "to globally set reindex to True and silence this warning.\n",
      "\n",
      "  warnings.warn(\n"
     ]
    },
    {
     "data": {
      "image/png": "[encoded data removed]",
      "text/plain": [
       "<Figure size 432x288 with 1 Axes>"
      ]
     },
     "metadata": {
      "needs_background": "light"
     },
     "output_type": "display_data"
    }
   ],
   "source": [
    "# example of ARCH model\n",
    "from random import gauss\n",
    "from random import seed\n",
    "from matplotlib import pyplot\n",
    "from arch import arch_model\n",
    "# seed pseudorandom number generator\n",
    "seed(1)\n",
    "# create dataset\n",
    "data = [gauss(0, i*0.01) for i in range(0,100)]\n",
    "# split into train/test\n",
    "n_test = 10\n",
    "train, test = data[:-n_test], data[-n_test:]\n",
    "# define model\n",
    "model = arch_model(train, mean='Zero', vol='GARCH', p=15, q=15)\n",
    "# fit model\n",
    "model_fit = model.fit()\n",
    "# forecast the test set\n",
    "yhat = model_fit.forecast(horizon=n_test)\n",
    "# plot the actual variance\n",
    "var = [i*0.01 for i in range(0,100)]\n",
    "pyplot.plot(var[-n_test:])\n",
    "# plot forecast variance\n",
    "pyplot.plot(yhat.variance.values[-1, :])\n",
    "pyplot.show()"
   ]
  }
 ],
 "metadata": {
  "kernelspec": {
   "display_name": "Python 3",
   "language": "python",
   "name": "python3"
  },
  "language_info": {
   "codemirror_mode": {
    "name": "ipython",
    "version": 3
   },
   "file_extension": ".py",
   "mimetype": "text/x-python",
   "name": "python",
   "nbconvert_exporter": "python",
   "pygments_lexer": "ipython3",
   "version": "3.8.5"
  }
 },
 "nbformat": 4,
 "nbformat_minor": 4
}
